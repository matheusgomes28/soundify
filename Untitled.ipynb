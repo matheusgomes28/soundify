{
 "cells": [
  {
   "cell_type": "code",
   "execution_count": 1,
   "id": "1200fe62",
   "metadata": {},
   "outputs": [
    {
     "data": {
      "text/plain": [
       "[<matplotlib.lines.Line2D at 0x1d80142eb20>]"
      ]
     },
     "execution_count": 1,
     "metadata": {},
     "output_type": "execute_result"
    },
    {
     "data": {
      "image/png": "[encoded data removed]",
      "text/plain": [
       "<Figure size 432x288 with 1 Axes>"
      ]
     },
     "metadata": {
      "needs_background": "light"
     },
     "output_type": "display_data"
    }
   ],
   "source": [
    "%matplotlib inline\n",
    "import numpy as np\n",
    "from matplotlib import pyplot as plt\n",
    "\n",
    "import sound\n",
    "\n",
    "freq = 440\n",
    "sps = 44100\n",
    "duration = 1\n",
    "\n",
    "samples_per_curve = sps / freq\n",
    "half_samples_per_curve = int(samples_per_curve / 2)\n",
    "wave = np.hstack([np.ones(half_samples_per_curve), -np.ones(half_samples_per_curve)])\n",
    "\n",
    "def create_square(duration, freq, sps):\n",
    "    samples_per_curve = sps / freq\n",
    "    half_samples_per_curve = int(samples_per_curve / 2)\n",
    "    wave = np.hstack([np.ones(half_samples_per_curve), -np.ones(half_samples_per_curve)])\n",
    "    return np.tile(wave, freq * duration)\n",
    "    \n",
    "\n",
    "plt.plot(create_square(10, 1, 44100))"
   ]
  },
  {
   "cell_type": "code",
   "execution_count": 34,
   "id": "af50edf7",
   "metadata": {},
   "outputs": [],
   "source": [
    "import sounddevice\n",
    "def create_triangle(duration, freq, sps):\n",
    "    samples_per_curve = sps / freq\n",
    "    half_samples_per_curve = int(samples_per_curve / 2)\n",
    "    wave = np.hstack([np.linspace(-1, 1, half_samples_per_curve), np.linspace(1, -1, half_samples_per_curve)])\n",
    "    return np.tile(wave, freq * duration)\n",
    "\n",
    "def create_sawtooth(duration, freq, sps):\n",
    "    samples_per_curve = sps / freq\n",
    "    half_samples_per_curve = int(samples_per_curve / 2)\n",
    "    wave = np.linspace(-1, 1, int(samples_per_curve))\n",
    "    return np.tile(wave, int(freq * duration))\n",
    "\n",
    "def create_pure(duration, freq, sps):\n",
    "    Xs = np.arange(duration * sps)\n",
    "    Ys = np.sin(2 * np.pi * Xs * freq / sps)\n",
    "    return Ys\n",
    "\n",
    "def make_pure_chord(duration, freqs, sps):\n",
    "    notes = [create_pure(duration, freq, sps) for freq in freqs]\n",
    "    min_samples = int(np.min([note.shape[0] for note in notes]))\n",
    "    \n",
    "    result = np.zeros((min_samples,))\n",
    "    for note in notes:\n",
    "        result += note[:min_samples]/len(notes)\n",
    "    return result\n",
    "\n",
    "def make_saw_chord(duration, freqs, sps):\n",
    "    notes = [create_sawtooth(duration, freq, sps) for freq in freqs]\n",
    "    min_samples = int(np.min([note.shape[0] for note in notes]))\n",
    "    \n",
    "    result = np.zeros((min_samples,))\n",
    "    for note in notes:\n",
    "        result += note[:min_samples]/len(notes)\n",
    "    return result\n",
    "\n",
    "song = [make_saw_chord(2, [261.63, 523.25], 44100),\n",
    "        make_saw_chord(2, [392.00, 783.99], 44100),\n",
    "        make_saw_chord(2, [523.25, 1046.50], 44100),\n",
    "        make_saw_chord(0.3, [659.25, 783.99, 1046.50, 1318.51], 44100),\n",
    "        make_saw_chord(1.2, [622.25, 783.99, 1046.50, 1244.51], 44100)]\n",
    "\n",
    "for chord in song:\n",
    "    sound.play_array(chord, 44100)"
   ]
  }
 ],
 "metadata": {
  "kernelspec": {
   "display_name": "Python 3 (ipykernel)",
   "language": "python",
   "name": "python3"
  },
  "language_info": {
   "codemirror_mode": {
    "name": "ipython",
    "version": 3
   },
   "file_extension": ".py",
   "mimetype": "text/x-python",
   "name": "python",
   "nbconvert_exporter": "python",
   "pygments_lexer": "ipython3",
   "version": "3.9.5"
  }
 },
 "nbformat": 4,
 "nbformat_minor": 5
}
